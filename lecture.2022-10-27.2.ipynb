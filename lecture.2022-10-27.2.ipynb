{
 "cells": [
  {
   "cell_type": "markdown",
   "metadata": {},
   "source": [
    "# Intro to Linguistics - Lecture 2"
   ]
  },
  {
   "cell_type": "markdown",
   "metadata": {},
   "source": [
    "Last time - Traditional linguistics vs modern linguistics.\n",
    "\n",
    "What does it mean to know a language. Examine human languages and reach generalizations."
   ]
  },
  {
   "cell_type": "markdown",
   "metadata": {},
   "source": [
    "Transcription uses a special alphabet - IPA International Phonetic Alphabet\n",
    "\n"
   ]
  },
  {
   "cell_type": "markdown",
   "metadata": {},
   "source": [
    "### Linguistic fields\n",
    "\n",
    "* Linguistic sounds (phones)\n",
    "  1. Phonetics - Study sounds in isolation\n",
    "     * Production - Where it is produced and how\n",
    "     * Perception - How a sound is perceived when we hear them\n",
    "  2. Phonology - Study of mental representation of sounds\n",
    "     * How sounds are organized in a system per language\n",
    "     * How sounds interact with each other (as part of syllables, or words)\n",
    "    \n",
    "3. Morphology\n",
    "   * Examine word structure\n",
    "   * what words are made of\n",
    "   * How they are formed\n",
    "     \n",
    "     Example: agreements\n",
    " \n",
    "     agree(verb)|ment(convert to noun)|s(make plural)\n",
    " \n",
    "     In Indonesian\n",
    " \n",
    "     ibu - mother\n",
    " \n",
    "     ibuibu - mothers (plural by repetition)\n",
    " \n",
    "     Different strategies of word formation (naturally by the population)\n",
    "\n",
    "4. Syntax (Dr. Gabi Danon)\n",
    "   * Rules for putting words into structures (sentences) with meaning\n",
    " \n",
    "   * Word order\n",
    "\n",
    "5. Semantics (Dr. Yael Greenberg)\n",
    " \n",
    "   * Study of meaning\n",
    "     * of words\n",
    "     * of sentences\n",
    " \n",
    "     word and relations between them. Synonyms. Changes words undergo (Surfing the net).\n",
    "\n",
    "   * Logic of the meaning\n",
    " \n",
    "6. Pragmatics (Dr. Yael Greenberg)\n",
    "\n",
    "   * Meaning in context - Can you cook? I can make an omelette.\n",
    "   * Meaning in usage\n",
    "\n",
    "   The way we interpret the meaning, beyond the dry meaning of the sentence\n",
    "\n",
    "7. Discourse analysis (related to pragmatics)\n",
    "\n",
    "   Meaning in context, with a focus on text.\n",
    "\n",
    "   For example narrative vs explanatory text.\n",
    "\n",
    "8. Language acquisition\n",
    "\n",
    "   * How languages are acquired\n",
    "   * The stages of acquisition\n",
    "\n",
    "   spontaneous acquisition (at an early age).\n",
    "\n",
    "   * Multiligualism.\n",
    "\n",
    "   * Melting pot societies.\n",
    "\n",
    "9. Social lingustics\n",
    "\n",
    "   * Language and society\n",
    "   * Language and culture\n",
    "\n",
    "   The social factors that affect how language is used, and sometimes how language is perceived.\n",
    "\n",
    "   Attitude of speakers to languages\n",
    "\n",
    "   How do we perceive people who speak with certain dialects or accents?\n",
    "\n",
    "   Differnt varieties of the same language in the same society (Standard arabic vs local dialects)\n",
    "\n",
    "   Arabic:\n",
    "\n",
    "   Biddi akoil\n",
    "   I want eat\n",
    "\n",
    "   Is this wrong?\n",
    "\n",
    "   Ariidu an akuila\n",
    "   I want that eat\n",
    "\n",
    "   The first is palestinian arabic. The second is standard arabic\n",
    "\n",
    "   Language and gender\n",
    "\n",
    "10. Neurolinguistics\n",
    "\n",
    "    * Language and the brain\n",
    "\n",
    "    In the past was studied mostly in terms of brain injurise, specific language impairments, etc.\n",
    "\n",
    "    Today with technology also studies in healthy people with brain imaging.\n",
    "\n",
    "11. Psycholinguistics\n",
    "\n",
    "    Relevant to all previous fields we discussed so far\n",
    "\n",
    "    * The study of the cognitive/psychological factors that we use to process and understand a language.\n",
    "\n",
    "    MEaining of \"bank\". Rivarbank or financial institution. What does the first meaning mean about the listener\n",
    "\n",
    "12. Historical linguistics\n",
    "\n",
    "    How linguistic knowledge changes over the years."
   ]
  },
  {
   "cell_type": "markdown",
   "metadata": {},
   "source": [
    "$\\char\"0276$"
   ]
  },
  {
   "cell_type": "markdown",
   "metadata": {},
   "source": []
  }
 ],
 "metadata": {
  "kernelspec": {
   "display_name": "Python 3.10.7 64-bit",
   "language": "python",
   "name": "python3"
  },
  "language_info": {
   "name": "python",
   "version": "3.10.7"
  },
  "orig_nbformat": 4,
  "vscode": {
   "interpreter": {
    "hash": "916dbcbb3f70747c44a77c7bcd40155683ae19c65e1c03b4aa3499c5328201f1"
   }
  }
 },
 "nbformat": 4,
 "nbformat_minor": 2
}
