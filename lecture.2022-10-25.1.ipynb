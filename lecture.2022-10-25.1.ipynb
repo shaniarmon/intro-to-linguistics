{
 "cells": [
  {
   "cell_type": "markdown",
   "metadata": {},
   "source": [
    "# Intro to linguistics - Lesson 1"
   ]
  },
  {
   "cell_type": "markdown",
   "metadata": {},
   "source": [
    "Lecturer details:\n",
    "\n",
    "Lior.Laks@biu.ac.il\n",
    "\n",
    "050-7596705 (Call only - No whatsapp or text)\n",
    "\n",
    "Office hours: Tuesday 10:00 (right after class)"
   ]
  },
  {
   "cell_type": "markdown",
   "metadata": {},
   "source": [
    "Introduction to linguistics - what it is and different fields"
   ]
  },
  {
   "cell_type": "markdown",
   "metadata": {},
   "source": [
    "Grade:\n",
    "\n",
    "* 10% - Assignments and participation\n",
    "* 25% - Midterm\n",
    "* 65% - Final exam"
   ]
  },
  {
   "cell_type": "markdown",
   "metadata": {},
   "source": [
    "Assignments are pass/fail - provide feedback"
   ]
  },
  {
   "cell_type": "markdown",
   "metadata": {},
   "source": [
    "Attend 80% of classes required"
   ]
  },
  {
   "cell_type": "markdown",
   "metadata": {},
   "source": [
    "Passing grade 67 (Must get 67 on final exam as well)"
   ]
  },
  {
   "cell_type": "markdown",
   "metadata": {},
   "source": [
    "What is linguistics?\n",
    "\n",
    "* science of language\n",
    "* Development and progress of language\n",
    "* Structures and systems by which language provide meaning\n",
    "* Variation of language\n",
    "\n",
    "Types of linguistics\n",
    "\n",
    "* Traditional linguistics\n",
    "\n",
    "  * Prescriptive approach (normative approach)\n",
    "    \n",
    "    Native speakers of language are told how to use the language (correctness, novel, bad, slang, formality) - For mothertongue\n",
    "\n",
    "    Many countries have an official body responsible for \"pure\" language\n",
    "\n",
    "  * Focus is on the written language and less, or not at all, on the spoken language\n",
    "\n",
    "    Written language is considered more prestigious, correct, formal. Spoken is often considered leess, slang informal.\n",
    "    The rules of the written language are expected to be mirrored in the spoken language.\n",
    "\n",
    "  * Diachronic research - Storytelling research - the history of language and words - etymology\n",
    "\n",
    "    How the language developed\n",
    "\n",
    "  * Was the dominant approach up until the beginning of the 20th century\n"
   ]
  },
  {
   "cell_type": "markdown",
   "metadata": {},
   "source": [
    "* Language faculty - Study of linguistic knowledge\n",
    "  * Swiss linguist Ferdinand De Saussure - shift of interest in the focus of linguastics\n",
    "\n",
    "    Asked: What do we know when we know a language? (mothertongue)\n",
    "\n",
    "    Quite a bit.\n",
    "\n",
    "    We acquire a language at a young age. Children of typical development understand language at a very young age,\n",
    "    and can speak it freely and productively.\n",
    "\n",
    "    The focus shifted to asking this question.\n",
    "  \n",
    "  * We know many things without being tought:\n",
    "\n",
    "    * Sounds:\n",
    "\n",
    "      * smade\n",
    "      * msade\n",
    "\n",
    "      These are not actual English words. But for a average english speaker - the first word is more likely to be\n",
    "      an actual word. Also in most other languages.\n",
    "\n",
    "    * Words:\n",
    "      * brownify\n",
    "      \n",
    "      Does not apear in dictionaries but a native speaker in english will automatically assign the meaning (make something brown)\n",
    "\n",
    "    * Sentences\n",
    "\n",
    "      * John gave a book to Mary\n",
    "\n",
    "      * John gave to Mary a book\n",
    "\n",
    "      Different structure. Same meaning. A youcg child will understand both equally.\n",
    "\n",
    "      * John described a book to Mary\n",
    "\n",
    "      * (*) John described to Mary a book\n",
    "\n",
    "      The second sentence will automatically be considered ungrammatical by native English speakers.\n",
    "\n",
    "      We use a (*) to mark something as ungrammatical.\n",
    "\n",
    "    * Meaning - we also have instinctive knowledge about meaning\n",
    "\n",
    "      * John told Bill to clean the room\n",
    "\n",
    "      * John ordered Bill to clean the room\n",
    "\n",
    "      Told is more neutral and ordered has the flavor of command. But both sentences have essentially the same meaning\n",
    "\n",
    "      * John promised Bill to clean the room\n",
    "\n",
    "      A full change of scenario - In both first sentences Bill cleans the room. In the third sentence John cleans the room.\n",
    "\n",
    "* How language is acquired\n"
   ]
  },
  {
   "cell_type": "markdown",
   "metadata": {},
   "source": [
    "* Modern linguistics\n",
    "\n",
    "  * Descriptive approach\n",
    "\n",
    "    Describe what speakers to and try to reach generalizations\n",
    "\n",
    "    * I'm not sleeping vs I ain't sleeping\n",
    "\n",
    "      Why each is used and when\n",
    "\n",
    "    Don't judge a specific use\n",
    "\n",
    "\n",
    "    * Comparative\n",
    "\n",
    "      * cheap vs important\n",
    "\n",
    "      Make the word stronger\n",
    "\n",
    "      * cheaper vs  more importand\n",
    "\n",
    "      not\n",
    "\n",
    "      * more cheap vs importanter\n",
    "\n",
    "      The general rule is *not* a single syllable word  gets \"-er\" and longer words get \"more -\".\n",
    "\n",
    "      And \"more cheap\" is not necessarily wrong.\n",
    "\n",
    "      * This car is more cheap than good\n",
    "\n",
    "      \"Mistakes\" often show a lot about the knowledge of the speaker\n",
    "\n",
    "      * I goed vs I went\n",
    "\n",
    "      Shows an understanding of the rule of past tense, but lack of knowledge about the exception\n",
    "\n",
    "    * Focus is on spoken language. \n",
    "\n",
    "      * Does not mean written language is not studied\n",
    "\n",
    "      Sppntaneous. Is acquired first. Is instinctive.\n",
    "\n",
    "      Not all languages have a writing system. Not all native speakers are literate. \n",
    "\n",
    "      Written language reflects the spoken language. \n",
    "\n",
    "      Written language is planned, unspontaneous, has revisions.\n",
    "\n",
    "      Whatsapp chats are more like spoken language.\n",
    "\n",
    "    * Synchronic research\n",
    "\n",
    "      Languages are studied in a given point of time. \n",
    "      \n",
    "      * What is happening right here and now\n",
    "      * What a language was like at a given point of history\n",
    "\n",
    "      Etymology does not describe instinctual knowledge.\n",
    "\n",
    "      This way we can study how language **works** and are acquired.\n",
    "\n",
    "    "
   ]
  },
  {
   "cell_type": "markdown",
   "metadata": {},
   "source": [
    "## Methodology"
   ]
  },
  {
   "cell_type": "markdown",
   "metadata": {},
   "source": [
    "Two primary methods that complement each other"
   ]
  },
  {
   "cell_type": "markdown",
   "metadata": {},
   "source": [
    "* Naturalistic data - Corpus\n",
    "\n",
    "  Examine actual users of the langeuage. How speakers speak, how they write, what they know and understand.\n",
    "\n",
    "  We may use recordings of speakers. rely on data from the language.\n",
    "  \n",
    "  Sometimes we don't have enough data\n",
    "\n",
    "* Experimental data\n",
    "\n",
    "  Conduct experiments\n",
    "\n",
    "  Ask questions of the populace:\n",
    "\n",
    "  * Test what common meaning of the word \"bank\" means.\n",
    "\n",
    "  * What does bank mean to you?\n",
    "\n",
    "  * River bank - Financial institution"
   ]
  },
  {
   "cell_type": "markdown",
   "metadata": {},
   "source": [
    "Student union representative\n",
    "\n",
    "050-925-0699\n",
    "Lior Zoe"
   ]
  },
  {
   "cell_type": "markdown",
   "metadata": {},
   "source": []
  }
 ],
 "metadata": {
  "kernelspec": {
   "display_name": "Python 3.10.7 64-bit",
   "language": "python",
   "name": "python3"
  },
  "language_info": {
   "name": "python",
   "version": "3.10.7"
  },
  "orig_nbformat": 4,
  "vscode": {
   "interpreter": {
    "hash": "916dbcbb3f70747c44a77c7bcd40155683ae19c65e1c03b4aa3499c5328201f1"
   }
  }
 },
 "nbformat": 4,
 "nbformat_minor": 2
}
