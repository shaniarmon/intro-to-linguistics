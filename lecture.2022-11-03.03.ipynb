{
 "cells": [
  {
   "cell_type": "markdown",
   "metadata": {},
   "source": [
    "# Linguistics - Lesson 3 - 2022/11/03"
   ]
  },
  {
   "cell_type": "markdown",
   "metadata": {},
   "source": [
    "Where does language come from? Why do all of us speak at least one mother tongue? Nature or nurture?\n",
    "\n",
    "Innate or acquired? Somewhere in between?\n"
   ]
  },
  {
   "cell_type": "markdown",
   "metadata": {},
   "source": [
    "\n",
    "Empericism vs Rationalism argument over the nature of human knowledge.\n"
   ]
  },
  {
   "cell_type": "markdown",
   "metadata": {},
   "source": [
    "### Empiricism - John Locke, David Hume\n",
    "\n",
    "All human knowledge is based on the sum of experiences. \n",
    "\n",
    "When a child is born they come to the world with a clean slate. No prior knowledge. \n",
    "\n",
    "They are only equipped with the ability to learn. Everything is based on feedback, trial and error.\n",
    "\n",
    "All the experiences throughout our lives, shape who we are and what we know.\n",
    "\n",
    "This means people can be shaped, by the government, teachers, people around them.\n"
   ]
  },
  {
   "cell_type": "markdown",
   "metadata": {},
   "source": [
    "### Rationalism - Renee Decartes\n",
    "\n",
    "We are not a clean slate. There is some innate knowledge.\n",
    "\n",
    "A baby comes to the world with knowledge which is a part of them, and cannot be shaped.\n",
    "\n",
    "On top of that there is experience which is built on that innate knowledge. \n",
    "\n",
    "Ex. Freedom of Independent thought is a basic instinct that cannot be manipulated away, and experience is viewed through that lens."
   ]
  },
  {
   "cell_type": "markdown",
   "metadata": {},
   "source": [
    "### Language - Empiricism vs Rationalism\n",
    "\n",
    "Empiricism\n",
    "\n",
    "* Behaviorism - Skinner\n",
    "\n",
    "  Examined human bahavior and language acquisition\n",
    "\n",
    "  Verbal Behavior, B. F. Skinner, 1957\n",
    "\n",
    "  Nature of human language\n",
    "\n",
    "  How does a child learn to produce sentences they have never heard before? \n",
    "\n",
    "  Children can expand their knowledge based on analogy.\n",
    "\n",
    "  John ate an apple\n",
    "\n",
    "  A child understands that \"apple\" refers to something that john ate, and if John eats an orange, then they\n",
    "  can produce the sentence \"John ate an orange\"."
   ]
  },
  {
   "cell_type": "markdown",
   "metadata": {},
   "source": [
    "Rationalism\n",
    "\n",
    "* Noam Chomsky\n",
    "\n",
    "  Journal Language, 1957, \"Syntactic structures\"\n",
    "\n",
    "  Language is partially innate, We have an organ that is innately equipped to learn a language, in an inherent manner.\n",
    "\n",
    "  John liked the movie with Julia Roberts\n",
    "\n",
    "  John watched the movie with Julia Roberts\n",
    "\n",
    "  \"with\" refers to the noun \"movie\" in the first sentence.\n",
    "\n",
    "  In the second sentence, The verb \"watched\" can optionally take a second participant, so \"with\" is ambiguous.\n",
    "\n",
    "  Just the same simple, straight analogy, does not work, and innattely a child will know both meanings.  "
   ]
  },
  {
   "cell_type": "markdown",
   "metadata": {},
   "source": [
    "John has bought a car\n",
    "\n",
    "What has John bought?\n",
    "\n",
    "Mary claimed that John bought a car\n",
    "\n",
    "What did Mary claim that John bought?\n",
    "\n",
    "Robert claimed that Mary claimed that John bought a car\n",
    "\n",
    "What did Robert claim that Mary claimed that John bought?\n",
    "\n",
    "All of the above sentenced, beyond the first three, can be formed by analogy.\n",
    "\n",
    "Mary made a claim that John bought a car\n",
    "\n",
    "\\* What did Mary make the claim that John bought?\n",
    "\n",
    "The same analogous strategy does not work for producing the last question.\n"
   ]
  },
  {
   "cell_type": "markdown",
   "metadata": {},
   "source": [
    "Chomsky claims that there is somethng about grammar that all languages share, with something similiar about all of them."
   ]
  },
  {
   "cell_type": "markdown",
   "metadata": {},
   "source": [
    "What is still contained in \"Chomsky universal grammar\"?"
   ]
  },
  {
   "cell_type": "markdown",
   "metadata": {},
   "source": [
    "Chomskys Hypothosis of innateness which claimes that there is some component of grammar which is innate to brains and all languages share."
   ]
  },
  {
   "cell_type": "markdown",
   "metadata": {},
   "source": [
    "### Hypothosis of Innateness\n",
    "\n",
    "Support:\n",
    "\n",
    "* Properties of human/natural languages\n",
    "\n",
    "  1. Uniformity\n",
    "\n",
    "     Every speaker has at least one mothertongue which is acquired at a young age.\n",
    "\n",
    "  2. Infiniteness\n",
    "\n",
    "     A language is an infinite system, where we can expand the sum of sentences endlessly, using recursive rules\n",
    "\n",
    "     Ex. rule (non recursive):\n",
    "     \n",
    "     Input: noun\n",
    "\n",
    "     Rule: Add -s\n",
    "\n",
    "     Output: plural noun\n",
    "\n",
    "     cat -> cats\n",
    "\n",
    "     \\* cats -> catss\n",
    "\n",
    "     Ex. rule (recursive):\n",
    "\n",
    "     Input: A sentence\n",
    "\n",
    "     Rule: He said that -\n",
    "\n",
    "     Output: He said that a sentence\n",
    "\n",
    "     It will rain tomorrow -> He said that it would rain tomorrow\n",
    "\n",
    "     He said that it would rain tomorrow -> He said that he said that it would rain tomorrow\n",
    "\n",
    "  3. Identical structural properties\n",
    "\n",
    "     Grammars of all languages share some common properties\n",
    "\n",
    "     Example:\n",
    "\n",
    "     John $_1$ thinks he $_{1|2}$ is smart\n",
    "\n",
    "     \"he\" can refer to John but doesn't have to.\n",
    "\n",
    "     He $_{2|*1}$ thinks John $_1$ is smart\n",
    "\n",
    "     \"he\" can no longer to refer to John\n",
    "\n",
    "     When he $_{1|2}$ wakes up, John $_1$ is nervous.\n",
    "\n",
    "     Example 2:\n",
    "\n",
    "     An infinitive cannot be used as a main verb\n",
    "\n",
    "     \\* John *to eat* pizza\n",
    "\n",
    "     \n",
    "\n",
    "* Processes of language acquisition\n",
    "\n"
   ]
  },
  {
   "cell_type": "markdown",
   "metadata": {},
   "source": []
  }
 ],
 "metadata": {
  "kernelspec": {
   "display_name": "Python 3.10.7 64-bit",
   "language": "python",
   "name": "python3"
  },
  "language_info": {
   "name": "python",
   "version": "3.10.7"
  },
  "orig_nbformat": 4,
  "vscode": {
   "interpreter": {
    "hash": "916dbcbb3f70747c44a77c7bcd40155683ae19c65e1c03b4aa3499c5328201f1"
   }
  }
 },
 "nbformat": 4,
 "nbformat_minor": 2
}
